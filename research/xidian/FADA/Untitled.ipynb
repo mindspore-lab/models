{
 "cells": [
  {
   "cell_type": "code",
   "execution_count": 1,
   "id": "ca40c155",
   "metadata": {},
   "outputs": [],
   "source": [
    "import argparse\n",
    "import os\n",
    "import datetime\n",
    "import logging\n",
    "import time\n",
    "import math\n",
    "import numpy as np\n",
    "from tqdm import tqdm\n",
    "from collections import OrderedDict\n",
    "import re\n",
    "\n",
    "import mindspore\n",
    "from mindspore import context\n",
    "\n",
    "from core.configs import cfg\n",
    "from core.datasets import build_dataset\n",
    "from core.models import build_model, build_adversarial_discriminator, build_feature_extractor, build_classifier\n",
    "from core.solver import adjust_learning_rate\n",
    "from core.utils.misc import mkdir, cal_hist, get_color_pallete\n",
    "from core.utils.logger import setup_logger\n",
    "from core.utils.metric_logger import MetricLogger\n",
    "\n",
    "from core.models.fada_mindspore import FADA_MindSpore_Feature_Extractor, FADA_MindSpore_Classifier, FADA_MindSpore_Discriminator\n",
    "from mindspore.train.serialization import load_checkpoint, load_param_into_net\n",
    "from core.models.fada_mindspore import WithLossCellG, WithLossCellD, WithEvalCellSrc\n",
    "import mindspore.dataset as ds\n"
   ]
  },
  {
   "cell_type": "code",
   "execution_count": 5,
   "id": "4b003f1c",
   "metadata": {},
   "outputs": [],
   "source": [
    "from PIL import Image\n",
    "import numpy as np"
   ]
  },
  {
   "cell_type": "code",
   "execution_count": 10,
   "id": "9d1b0d7c",
   "metadata": {},
   "outputs": [
    {
     "name": "stdout",
     "output_type": "stream",
     "text": [
      "[ 0  1  2  3  5  6  7  8  9 10 11 13]\n"
     ]
    }
   ],
   "source": [
    "a = Image.open('./datasets/cityscapes/soft_labels/inference/cityscapes_train/aachen_000000_000019_leftImg8bit.png')\n",
    "a = np.array(a)\n",
    "print(np.unique(a))"
   ]
  },
  {
   "cell_type": "code",
   "execution_count": null,
   "id": "b440898e",
   "metadata": {},
   "outputs": [],
   "source": []
  }
 ],
 "metadata": {
  "kernelspec": {
   "display_name": "MindSpore",
   "language": "python",
   "name": "mindspore"
  },
  "language_info": {
   "codemirror_mode": {
    "name": "ipython",
    "version": 3
   },
   "file_extension": ".py",
   "mimetype": "text/x-python",
   "name": "python",
   "nbconvert_exporter": "python",
   "pygments_lexer": "ipython3",
   "version": "3.7.6"
  }
 },
 "nbformat": 4,
 "nbformat_minor": 5
}
