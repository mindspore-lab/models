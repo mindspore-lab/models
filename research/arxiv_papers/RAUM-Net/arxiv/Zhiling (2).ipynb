{
 "cells": [
  {
   "cell_type": "code",
   "execution_count": null,
   "id": "7cec915c-a2dc-4365-9594-bae71d47b2a0",
   "metadata": {},
   "outputs": [],
   "source": [
    "export MS_VERSION=2.3.0"
   ]
  },
  {
   "cell_type": "code",
   "execution_count": null,
   "id": "b17cd798-86f0-4424-bff4-7e6ebe36711e",
   "metadata": {},
   "outputs": [],
   "source": [
    "pip install https://ms-release.obs.cn-north-4.myhuaweicloud.com/${MS_VERSION}/MindSpore/unified/aarch64/mindspore-${MS_VERSION/-/}-cp39-cp39-linux_aarch64.whl --trusted-host ms-release.obs.cn-north-4.myhuaweicloud.com -i https://pypi.tuna.tsinghua.edu.cn/simple"
   ]
  },
  {
   "cell_type": "code",
   "execution_count": null,
   "id": "dd55e69c-c809-40fd-8ced-ff0ae68b57c5",
   "metadata": {},
   "outputs": [],
   "source": [
    "pip install mindcv"
   ]
  },
  {
   "cell_type": "code",
   "execution_count": null,
   "id": "2a28ddf4-dc5f-4582-881f-f084185ac62a",
   "metadata": {},
   "outputs": [],
   "source": [
    "python train.py --model=resnet50 --dataset=cifar10 \\\n",
    "    --val_while_train --val_split=test --val_interval=1"
   ]
  },
  {
   "cell_type": "code",
   "execution_count": null,
   "id": "5304cfa2-678b-45f5-bb93-b8504c415a47",
   "metadata": {},
   "outputs": [],
   "source": [
    "conda activate MindSpore"
   ]
  },
  {
   "cell_type": "code",
   "execution_count": null,
   "id": "835afb43-5af4-485c-818c-a1d8784035d1",
   "metadata": {},
   "outputs": [],
   "source": [
    "python train.py --model=resnet50 --dataset=cifar10 \\\n",
    "    --val_while_train --val_split=test --val_interval=1 --mode=1"
   ]
  },
  {
   "cell_type": "code",
   "execution_count": 1,
   "id": "d004e66e-a05a-4c21-9b40-fbf4252a1d37",
   "metadata": {},
   "outputs": [
    {
     "name": "stdout",
     "output_type": "stream",
     "text": [
      "\n",
      "       ___                _            _            _          \n",
      "      |__ \\              | |          | |          | |         \n",
      "  ___    ) | _ __    ___ | |_  ______ | |__    ___ | |_   __ _ \n",
      " / __|  / / | '_ \\  / _ \\| __||______|| '_ \\  / _ \\| __| / _` |\n",
      "| (__  / /_ | | | ||  __/| |_         | |_) ||  __/| |_ | (_| |\n",
      " \\___||____||_| |_| \\___| \\__|        |_.__/  \\___| \\__| \\__,_|\n",
      "                                                               \n",
      "         \n",
      "\n",
      "If you have any problems while preparing the data, you can submit an issue in this repository: https://openi.pcl.ac.cn/OpenIOSSG/c2net-pypi\n",
      "        \n",
      "Detected .code_cache_file already exists, code has been prepared!\n",
      "Detected .dataset_cache_file already exists, dataset has been prepared!\n",
      "No pretrainmodel selected\n",
      "please set c2net_context.output_path as the output location\n"
     ]
    }
   ],
   "source": [
    "# 导入包\n",
    "from c2net.context import prepare\n",
    "\n",
    "# 初始化导入数据集和预训练模型到容器内\n",
    "c2net_context = prepare()\n",
    "\n",
    "# 获取数据集路径\n",
    "dataset_path = c2net_context.dataset_path + \"/\"+  \"imagenet\"\n"
   ]
  },
  {
   "cell_type": "code",
   "execution_count": null,
   "id": "11ea5bd9-e927-44d9-9468-5f78c39117a1",
   "metadata": {},
   "outputs": [],
   "source": [
    "python train.py --config configs/cmt/cmt_small_ascend.yaml  --dataset=cifar10 --val_while_train --val_split=test --val_interval=1 --distribute False"
   ]
  },
  {
   "cell_type": "code",
   "execution_count": null,
   "id": "6da94242-1377-404c-a04d-5e316b50fda6",
   "metadata": {},
   "outputs": [],
   "source": [
    "python train_cmt_distill.py --labeled_ratio 0.1 --epochs 200 --use_mamba --pretrained_teacher=teacher_pretrained.ckpt"
   ]
  }
 ],
 "metadata": {
  "kernelspec": {
   "display_name": "MindSpore",
   "language": "python",
   "name": "mindspore"
  },
  "language_info": {
   "codemirror_mode": {
    "name": "ipython",
    "version": 3
   },
   "file_extension": ".py",
   "mimetype": "text/x-python",
   "name": "python",
   "nbconvert_exporter": "python",
   "pygments_lexer": "ipython3",
   "version": "3.9.18"
  }
 },
 "nbformat": 4,
 "nbformat_minor": 5
}
